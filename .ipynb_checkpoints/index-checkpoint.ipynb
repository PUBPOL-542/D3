{
 "cells": [
  {
   "cell_type": "code",
   "execution_count": 1,
   "id": "b995b704",
   "metadata": {},
   "outputs": [
    {
     "data": {
      "text/plain": [
       "['GLPK_CMD',\n",
       " 'PYGLPK',\n",
       " 'CPLEX_CMD',\n",
       " 'CPLEX_PY',\n",
       " 'GUROBI',\n",
       " 'GUROBI_CMD',\n",
       " 'MOSEK',\n",
       " 'XPRESS',\n",
       " 'XPRESS',\n",
       " 'XPRESS_PY',\n",
       " 'PULP_CBC_CMD',\n",
       " 'COIN_CMD',\n",
       " 'COINMP_DLL',\n",
       " 'CHOCO_CMD',\n",
       " 'MIPCL_CMD',\n",
       " 'SCIP_CMD',\n",
       " 'HiGHS_CMD']"
      ]
     },
     "execution_count": 1,
     "metadata": {},
     "output_type": "execute_result"
    }
   ],
   "source": [
    "import pulp as pulp\n",
    "pulp.listSolvers()"
   ]
  },
  {
   "cell_type": "code",
   "execution_count": 2,
   "id": "3b90937a",
   "metadata": {},
   "outputs": [],
   "source": [
    "# The Sandwich Example\n",
    "\n",
    "from pulp import LpMaximize,LpProblem,LpVariable,LpConstraint, value\n",
    "from pulp import PULP_CBC_CMD\n",
    "from pulp import LpConstraintGE as GE\n",
    "from pulp import LpConstraintLE as LE\n",
    "\n",
    "\n",
    "model = LpProblem(name='sandwiches', sense=LpMaximize)\n",
    "\n",
    "x = LpVariable(name=\"Ham\", lowBound=0,cat='Integer')\n",
    "y = LpVariable(name=\"LightHam\", lowBound=0,cat='Integer')\n",
    "z = LpVariable(name=\"Veggie\", lowBound=0,cat='Integer')\n",
    "\n",
    "obj_func = x + y + z\n",
    "\n",
    "C1= LpConstraint(name='Ham Slices Constraint', e= -(4*x + 2*y), sense=GE, rhs= - 400)\n",
    "C2= LpConstraint(name='Bread Sclices Constraint', e= 2*x + 2*y + 2*z, sense=LE, rhs= 252)\n",
    "C3= LpConstraint(name='Veggie Constraint', e= 1*x + 2*y + 3*z, sense=LE, rhs= 200)\n",
    "C4= LpConstraint(name='Cheese Constraint', e= - (1*x + 1*y + 2*z), sense=GE, rhs= - 900)\n",
    "\n",
    "# I added negative Signs to prevent non negative constraints \n",
    "\n",
    "\n",
    "# build model with info and solve the model\n",
    "model += obj_func\n",
    "model += C1\n",
    "model += C2\n",
    "model += C3\n",
    "model += C4\n",
    "\n",
    "\n",
    "\n",
    "solver = PULP_CBC_CMD(msg=False)\n",
    "result=model.solve(solver) "
   ]
  },
  {
   "cell_type": "code",
   "execution_count": 3,
   "id": "78386f7e",
   "metadata": {
    "scrolled": true
   },
   "outputs": [
    {
     "name": "stdout",
     "output_type": "stream",
     "text": [
      "Optimal Result:\n",
      "Ham = 52.0\n",
      "LightHam = 74.0\n",
      "Veggie = 0.0\n"
     ]
    }
   ],
   "source": [
    "print (\"Optimal Result:\")\n",
    "for variable in model.variables():\n",
    "    print (variable.name, \"=\", variable.varValue)"
   ]
  },
  {
   "cell_type": "code",
   "execution_count": 4,
   "id": "b13e93f1",
   "metadata": {},
   "outputs": [
    {
     "name": "stdout",
     "output_type": "stream",
     "text": [
      "Total number of sandwiches:\n",
      "126.0\n"
     ]
    }
   ],
   "source": [
    "print (\"Total number of sandwiches:\")\n",
    "print (value(model.objective))"
   ]
  },
  {
   "cell_type": "code",
   "execution_count": 5,
   "id": "dd0d40a7",
   "metadata": {},
   "outputs": [
    {
     "name": "stdout",
     "output_type": "stream",
     "text": [
      "Slack/Surplus\n",
      "Ham_Slices_Constraint:44.0\n",
      "Bread_Sclices_Constraint:0.0\n",
      "Veggie_Constraint:0.0\n",
      "Cheese_Constraint:774.0\n"
     ]
    }
   ],
   "source": [
    "print (\"Slack/Surplus\")\n",
    "for name, constraint in model.constraints.items():\n",
    "    print(name + ':' + str(constraint.value()))"
   ]
  },
  {
   "cell_type": "code",
   "execution_count": 6,
   "id": "764f7f8f",
   "metadata": {},
   "outputs": [],
   "source": [
    "# The Airfare Example 1.0\n",
    "\n",
    "from pulp import LpMaximize,LpProblem,LpVariable,LpConstraint, value\n",
    "from pulp import PULP_CBC_CMD\n",
    "from pulp import LpConstraintGE as GE\n",
    "from pulp import LpConstraintLE as LE\n",
    "\n",
    "\n",
    "model = LpProblem(name='Phoenix_Flights', sense=LpMaximize)\n",
    "\n",
    "x = LpVariable(name=\"SanDeigoPrice\", lowBound=0,cat='Continuous')\n",
    "y = LpVariable(name=\"SanFranciscoPrice\", lowBound=0,cat='Continuous')\n",
    "z = LpVariable(name=\"LasVegasPrice\", lowBound=0,cat='Continuous')\n",
    "\n",
    "obj_func = 1900*x + 700*y + 1000*z \n",
    "\n",
    "C1= LpConstraint(name='Averge Price Per Flight ', \n",
    "                 e= 1*x + 1*y + 1*z, sense=LE, rhs=600)\n",
    "C2= LpConstraint(name='10% cost Constraint',\n",
    "                 e= 14*y + 40*z, sense=LE, rhs=0)\n",
    "           \n",
    "\n",
    "\n",
    "# build model with info and solve the model\n",
    "\n",
    "model += obj_func\n",
    "model += C1\n",
    "model += C2\n",
    "\n",
    "\n",
    "solver = PULP_CBC_CMD(msg=False)\n",
    "result=model.solve(solver) "
   ]
  },
  {
   "cell_type": "code",
   "execution_count": 7,
   "id": "4e92d415",
   "metadata": {},
   "outputs": [
    {
     "name": "stdout",
     "output_type": "stream",
     "text": [
      "Optimal Result:\n",
      "LasVegasPrice = 0.0\n",
      "SanDeigoPrice = 600.0\n",
      "SanFranciscoPrice = 0.0\n"
     ]
    }
   ],
   "source": [
    "print (\"Optimal Result:\")\n",
    "for variable in model.variables():\n",
    "    print (variable.name, \"=\", variable.varValue)"
   ]
  },
  {
   "cell_type": "code",
   "execution_count": 8,
   "id": "4c4d1ea3",
   "metadata": {},
   "outputs": [
    {
     "name": "stdout",
     "output_type": "stream",
     "text": [
      "Total net max profit:\n",
      "1140000.0\n"
     ]
    }
   ],
   "source": [
    "print (\"Total net max profit:\")\n",
    "print (value(model.objective))"
   ]
  },
  {
   "cell_type": "code",
   "execution_count": 9,
   "id": "6d5daf94",
   "metadata": {},
   "outputs": [
    {
     "name": "stdout",
     "output_type": "stream",
     "text": [
      "Slack/Surplus\n",
      "Averge_Price_Per_Flight_:0.0\n",
      "10%_cost_Constraint:0.0\n"
     ]
    }
   ],
   "source": [
    "print (\"Slack/Surplus\")\n",
    "for name, constraint in model.constraints.items():\n",
    "    print(name + ':' + str(constraint.value()))"
   ]
  },
  {
   "cell_type": "code",
   "execution_count": 10,
   "id": "f05d5b9c",
   "metadata": {},
   "outputs": [],
   "source": [
    "# The Airfare Example 2.0\n",
    "\n",
    "from pulp import LpMaximize,LpProblem,LpVariable,LpConstraint, value\n",
    "from pulp import PULP_CBC_CMD\n",
    "from pulp import LpConstraintGE as GE\n",
    "from pulp import LpConstraintLE as LE\n",
    "\n",
    "\n",
    "model = LpProblem(name='Phoenix_Flights2', sense=LpMaximize)\n",
    "\n",
    "x = LpVariable(name=\"SanDeigoPrice2\", lowBound=0,cat='Integer')\n",
    "y = LpVariable(name=\"SanFranciscoPrice2\", lowBound=0,cat='Integer')\n",
    "z = LpVariable(name=\"LasVegasPrice2\", lowBound=0,cat='Integer')\n",
    "\n",
    "obj_func = 1900*x + 700*y + 1000*z \n",
    "\n",
    "\n",
    "C1= LpConstraint(name='Averge Price Per Flight ', \n",
    "                 e= -1*x - 1*y - 1*z, sense=LE, rhs= - 600)\n",
    "C2= LpConstraint(name='10% cost Constraint',\n",
    "                 e= 14*y + 40*z, sense=LE, rhs=0)\n",
    "C3= LpConstraint(name='SanDeigoPrice Constraint',\n",
    "                 e= 1*x, sense=LE, rhs=150)\n",
    "\n",
    "# I added negative Signs to prevent non negative constraints \n",
    "\n",
    "\n",
    "# build model with info and solve the model\n",
    "\n",
    "model += obj_func\n",
    "model += C1\n",
    "model += C2\n",
    "model += C3\n",
    "\n",
    "solver = PULP_CBC_CMD(msg=False)\n",
    "result=model.solve(solver)\n"
   ]
  },
  {
   "cell_type": "code",
   "execution_count": 11,
   "id": "07c6d677",
   "metadata": {},
   "outputs": [
    {
     "name": "stdout",
     "output_type": "stream",
     "text": [
      "Optimal Result:\n",
      "LasVegasPrice2 = 0.0\n",
      "SanDeigoPrice2 = 150.0\n",
      "SanFranciscoPrice2 = 0.0\n"
     ]
    }
   ],
   "source": [
    "print (\"Optimal Result:\")\n",
    "for variable in model.variables():\n",
    "    print (variable.name, \"=\", variable.varValue)"
   ]
  },
  {
   "cell_type": "code",
   "execution_count": 12,
   "id": "8e7e8b41",
   "metadata": {},
   "outputs": [
    {
     "name": "stdout",
     "output_type": "stream",
     "text": [
      "Total net max profit:\n",
      "285000.0\n"
     ]
    }
   ],
   "source": [
    "print (\"Total net max profit:\")\n",
    "print (value(model.objective))"
   ]
  },
  {
   "cell_type": "code",
   "execution_count": 13,
   "id": "257dfeeb",
   "metadata": {},
   "outputs": [
    {
     "name": "stdout",
     "output_type": "stream",
     "text": [
      "Slack/Surplus\n",
      "Averge_Price_Per_Flight_:450.0\n",
      "10%_cost_Constraint:0.0\n",
      "SanDeigoPrice_Constraint:0.0\n"
     ]
    }
   ],
   "source": [
    "print (\"Slack/Surplus\")\n",
    "for name, constraint in model.constraints.items():\n",
    "    print(name + ':' + str(constraint.value()))"
   ]
  },
  {
   "cell_type": "code",
   "execution_count": 14,
   "id": "f67747d3",
   "metadata": {},
   "outputs": [],
   "source": [
    "# The first Example 1.0\n",
    "\n",
    "from pulp import LpMaximize,LpProblem,LpVariable,LpConstraint, value\n",
    "from pulp import PULP_CBC_CMD\n",
    "from pulp import LpConstraintGE as GE\n",
    "from pulp import LpConstraintLE as LE\n",
    "\n",
    "model = LpProblem(name='Pure_Math', sense=LpMaximize)\n",
    "\n",
    "x = LpVariable(name=\"x\", lowBound=0,cat='Continuous')\n",
    "y = LpVariable(name=\"y\", lowBound=0,cat='Continuous')\n",
    "z = LpVariable(name=\"z\", lowBound=0,cat='Continuous')\n",
    "\n",
    "obj_func = 2*x + 3*y + 1*z\n",
    "\n",
    "C1= LpConstraint(name='1st Constraint', e= 3*x + 2*y, sense=LE, rhs=5)\n",
    "C2= LpConstraint(name='2nd Constraint',e= 2*x + 1*y - 1*z , sense=GE, rhs= - 13)\n",
    "C3= LpConstraint(name='3rd Constraint',e= 1*z, sense=LE, rhs= 4)\n",
    "\n",
    "\n",
    "# I added negative Signs to prevent non negative constraints \n",
    "\n",
    "\n",
    "# build model with info and solve the model\n",
    "\n",
    "model += obj_func\n",
    "model += C1 \n",
    "model += C2\n",
    "model += C3\n",
    "\n",
    "\n",
    "\n",
    "\n",
    "\n",
    "solver = PULP_CBC_CMD(msg=False)\n",
    "result=model.solve(solver) "
   ]
  },
  {
   "cell_type": "code",
   "execution_count": 15,
   "id": "d7c94110",
   "metadata": {},
   "outputs": [
    {
     "name": "stdout",
     "output_type": "stream",
     "text": [
      "Optimal Result:\n",
      "x = 0.0\n",
      "y = 2.5\n",
      "z = 4.0\n"
     ]
    }
   ],
   "source": [
    "print (\"Optimal Result:\")\n",
    "for variable in model.variables():\n",
    "    print (variable.name, \"=\", variable.varValue)"
   ]
  },
  {
   "cell_type": "code",
   "execution_count": 16,
   "id": "d52484d2",
   "metadata": {},
   "outputs": [
    {
     "name": "stdout",
     "output_type": "stream",
     "text": [
      "Total net max profit:\n",
      "11.5\n"
     ]
    }
   ],
   "source": [
    "print (\"Total net max profit:\")\n",
    "print (value(model.objective))"
   ]
  },
  {
   "cell_type": "code",
   "execution_count": 17,
   "id": "6a329337",
   "metadata": {},
   "outputs": [
    {
     "name": "stdout",
     "output_type": "stream",
     "text": [
      "Slack/Surplus\n",
      "1st_Constraint:0.0\n",
      "2nd_Constraint:11.5\n",
      "3rd_Constraint:0.0\n"
     ]
    }
   ],
   "source": [
    "print (\"Slack/Surplus\")\n",
    "for name, constraint in model.constraints.items():\n",
    "    print(name + ':' + str(constraint.value()))"
   ]
  }
 ],
 "metadata": {
  "kernelspec": {
   "display_name": "Python 3 (ipykernel)",
   "language": "python",
   "name": "python3"
  },
  "language_info": {
   "codemirror_mode": {
    "name": "ipython",
    "version": 3
   },
   "file_extension": ".py",
   "mimetype": "text/x-python",
   "name": "python",
   "nbconvert_exporter": "python",
   "pygments_lexer": "ipython3",
   "version": "3.9.13"
  }
 },
 "nbformat": 4,
 "nbformat_minor": 5
}
